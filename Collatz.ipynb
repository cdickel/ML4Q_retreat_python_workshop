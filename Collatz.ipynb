{
 "cells": [
  {
   "cell_type": "code",
   "execution_count": 3,
   "id": "748c8873",
   "metadata": {},
   "outputs": [],
   "source": [
    "import numpy as np\n",
    "import time"
   ]
  },
  {
   "cell_type": "code",
   "execution_count": null,
   "id": "224e4a44",
   "metadata": {},
   "outputs": [],
   "source": []
  },
  {
   "cell_type": "markdown",
   "id": "dda3b4c4",
   "metadata": {},
   "source": [
    "# The Collatz Conjecture"
   ]
  },
  {
   "cell_type": "code",
   "execution_count": 58,
   "id": "14d9c8e7",
   "metadata": {
    "code_folding": []
   },
   "outputs": [],
   "source": [
    "def Collatz_operation(input_integer:int) -> int:\n",
    "    '''\n",
    "    This is a docstring\n",
    "    Takes the input_integer, applies the Collatz operation and returns the output integer.\n",
    "    Collatz operation: \n",
    "    for even input_integer return intinput_integer/2\n",
    "    for odd input_integer return 3*input_integer+1\n",
    "    '''\n",
    "    \n",
    "    # check if number is even\n",
    "    if(input_integer%2==0):\n",
    "        output_integer = input_integer/2\n",
    "    else:\n",
    "        output_integer = 3*input_integer+1\n",
    "        \n",
    "    return output_integer"
   ]
  },
  {
   "cell_type": "code",
   "execution_count": 66,
   "id": "c698471a",
   "metadata": {},
   "outputs": [
    {
     "name": "stdout",
     "output_type": "stream",
     "text": [
      "4\n",
      "2.0\n",
      "1.0\n"
     ]
    }
   ],
   "source": [
    "# There is obviously a loop\n",
    "print(Collatz_operation(1))\n",
    "print(Collatz_operation(4))\n",
    "print(Collatz_operation(2))\n"
   ]
  },
  {
   "cell_type": "markdown",
   "id": "237085bb",
   "metadata": {},
   "source": [
    "The conjecture is that if your repeatedly apply the Collatz code to any number you end up in this very loop.\n",
    "\n",
    "Task: Calculate the iterations it takes to reach 1 for all numbers up to a maximum integer\n",
    "\n",
    "Whoever gets the most numbers within a minute wins.\n",
    "\n"
   ]
  },
  {
   "cell_type": "code",
   "execution_count": null,
   "id": "4d98b7d5",
   "metadata": {
    "code_folding": []
   },
   "outputs": [],
   "source": [
    "import numpy as np\n",
    "\n",
    "def collatz_length(seed_integer):\n",
    "    '''\n",
    "    returns the collatz length for seed_integer\n",
    "    '''\n",
    "    \n",
    "    iterations = 0\n",
    "    while seed_integer != 1:\n",
    "        if seed_integer%2 == 0:\n",
    "            seed_integer = seed_integer//2\n",
    "        else:\n",
    "            seed_integer = seed_integer*3 + 1\n",
    "        iterations+=1\n",
    "    return iterations\n",
    "\n",
    "#%%\n",
    "c_l=[]\n",
    "start_time=time.time()\n",
    "run_time=0\n",
    "n=2\n",
    "\n",
    "while(run_time<60):\n",
    "    c_l.append(collatz_length(n))\n",
    "    n=n+1\n",
    "    run_time = time.time()-start_time\n",
    "\n",
    "print(n)"
   ]
  },
  {
   "cell_type": "code",
   "execution_count": 2,
   "id": "b24075de",
   "metadata": {},
   "outputs": [],
   "source": []
  },
  {
   "cell_type": "code",
   "execution_count": 74,
   "id": "755a5eb7",
   "metadata": {},
   "outputs": [],
   "source": [
    "\n",
    "    \n",
    "\n"
   ]
  },
  {
   "cell_type": "code",
   "execution_count": 82,
   "id": "50f1c4ff",
   "metadata": {},
   "outputs": [
    {
     "name": "stdout",
     "output_type": "stream",
     "text": [
      "22510172\n",
      "306296925203752\n"
     ]
    }
   ],
   "source": [
    "class Collatz:\n",
    "    memo = {1:0}\n",
    "    \n",
    "    def cycle_length(self, number, verbose=False):\n",
    "\n",
    "        if verbose:\n",
    "            print(f'{number}', end='')\n",
    "\n",
    "        backtrack = []\n",
    "        while number not in self.memo:\n",
    "            backtrack.append(number)\n",
    "\n",
    "            if number % 2 == 1:\n",
    "                number *= 3\n",
    "                number += 1\n",
    "            else:\n",
    "                number //= 2\n",
    "\n",
    "            if verbose:\n",
    "                print(f' -> {number}', end='')\n",
    "\n",
    "            cycle = self.memo[number]\n",
    "\n",
    "            if verbose:\n",
    "                print(f' ({cycle} cycles)')\n",
    "\n",
    "            for number in reversed(backtrack):\n",
    "             cycle += 1\n",
    "             self.memo[number] = cycle\n",
    "\n",
    "        return cycle\n",
    "\n",
    "    @classmethod\n",
    "    def print_cycle(cls, number):\n",
    "\n",
    "        cycles = 0\n",
    "\n",
    "        print(f'{number}', end='')\n",
    "        while number > 1:\n",
    "            if number % 2 == 1:\n",
    "                number *= 3\n",
    "                number += 1\n",
    "            else:\n",
    "                number //= 2\n",
    "\n",
    "                cycles += 1\n",
    "\n",
    "        print(f' -> {number}', end='')\n",
    "\n",
    "        print(f'\\n{cycles} cycles')\n",
    "\n",
    "collatz_cycle_length = Collatz().cycle_length\n",
    "\n",
    "\n",
    "# %%timeit -n 1\n",
    "import time\n",
    "\n",
    "collatz = [0,0]\n",
    "current = 2\n",
    "start_time = time.time()\n",
    "\n",
    "worker = Collatz()\n",
    "\n",
    "starting_number = 2\n",
    "while time.time() - start_time < 10:\n",
    "     collatz.append(worker.cycle_length(starting_number))\n",
    "     starting_number += 1\n",
    "\n",
    "print(len(collatz))\n",
    "\n",
    "print(max(worker.memo))"
   ]
  },
  {
   "cell_type": "code",
   "execution_count": 5,
   "id": "cd019744",
   "metadata": {},
   "outputs": [
    {
     "name": "stdout",
     "output_type": "stream",
     "text": [
      "33929371\n"
     ]
    }
   ],
   "source": [
    "class Collatz_CD:\n",
    "    def __init__(self):\n",
    "        self.memo = [None, 0]\n",
    "\n",
    "    def cycle_length(self, number, verbose=False):\n",
    "\n",
    "        if verbose:\n",
    "            print(f'{number}', end='')\n",
    "\n",
    "        backtrack = []\n",
    "        cycle = 0\n",
    "        current_number = number\n",
    "        while current_number >= number:\n",
    "            cycle += 1\n",
    "            if current_number % 2 == 1:\n",
    "                current_number *= 3\n",
    "                current_number += 1\n",
    "            else:\n",
    "                current_number //= 2\n",
    "\n",
    "            if verbose:\n",
    "                print(f' -> {current_number}', end='')\n",
    "\n",
    "        cycle += self.memo[current_number]\n",
    "\n",
    "        self.memo.append(cycle)\n",
    "\n",
    "        if verbose:\n",
    "            print('')\n",
    "\n",
    "        return cycle\n",
    "\n",
    "collatz_cycle_length_CD = Collatz_CD().cycle_length\n",
    "\n",
    "import time\n",
    "\n",
    "\n",
    "collatz = [0,0]\n",
    "current = 2\n",
    "start_time = time.time()\n",
    "\n",
    "starting_number = 2\n",
    "while time.time() - start_time < 60:\n",
    "    collatz.append(collatz_cycle_length_CD(starting_number))\n",
    "    starting_number += 1\n",
    "print(len(collatz))"
   ]
  },
  {
   "cell_type": "code",
   "execution_count": null,
   "id": "efc80bd4",
   "metadata": {},
   "outputs": [],
   "source": []
  }
 ],
 "metadata": {
  "kernelspec": {
   "display_name": "Python 3",
   "language": "python",
   "name": "python3"
  },
  "language_info": {
   "codemirror_mode": {
    "name": "ipython",
    "version": 3
   },
   "file_extension": ".py",
   "mimetype": "text/x-python",
   "name": "python",
   "nbconvert_exporter": "python",
   "pygments_lexer": "ipython3",
   "version": "3.8.8"
  },
  "latex_envs": {
   "LaTeX_envs_menu_present": true,
   "autoclose": false,
   "autocomplete": true,
   "bibliofile": "biblio.bib",
   "cite_by": "apalike",
   "current_citInitial": 1,
   "eqLabelWithNumbers": true,
   "eqNumInitial": 1,
   "hotkeys": {
    "equation": "Ctrl-E",
    "itemize": "Ctrl-I"
   },
   "labels_anchors": false,
   "latex_user_defs": false,
   "report_style_numbering": false,
   "user_envs_cfg": false
  },
  "toc": {
   "base_numbering": 1,
   "nav_menu": {},
   "number_sections": true,
   "sideBar": true,
   "skip_h1_title": false,
   "title_cell": "Table of Contents",
   "title_sidebar": "Contents",
   "toc_cell": false,
   "toc_position": {},
   "toc_section_display": true,
   "toc_window_display": false
  }
 },
 "nbformat": 4,
 "nbformat_minor": 5
}
