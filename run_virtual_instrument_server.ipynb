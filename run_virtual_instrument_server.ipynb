{
 "cells": [
  {
   "cell_type": "code",
   "execution_count": 1,
   "id": "b98177ce",
   "metadata": {
    "slideshow": {
     "slide_type": "subslide"
    }
   },
   "outputs": [],
   "source": [
    "# import packages to get the relative path starting from this notebook\n",
    "import sys, os\n",
    "this_notebook_path = os.path.dirname(os.path.realpath(\"__file__\"))\n",
    "sys.path.append(os.path.join(this_notebook_path,\"..\",\"src\"))"
   ]
  },
  {
   "cell_type": "code",
   "execution_count": 2,
   "id": "c83c287f",
   "metadata": {},
   "outputs": [
    {
     "name": "stdout",
     "output_type": "stream",
     "text": [
      "Socket bound at localhost:9001\n",
      "Socket bound at localhost:9002\n",
      "Listening at ('127.0.0.1', 9001)\n",
      "Listening at ('127.0.0.1', 9002)\n",
      "Connection from ('127.0.0.1', 55335)\n",
      "Connection from ('127.0.0.1', 55336)\n"
     ]
    },
    {
     "name": "stderr",
     "output_type": "stream",
     "text": [
      "Exception in thread Thread-8:\n",
      "Traceback (most recent call last):\n",
      "  File \"C:\\ProgramData\\Anaconda3\\lib\\threading.py\", line 932, in _bootstrap_inner\n",
      "    self.run()\n",
      "  File \"C:\\Git_Repositories\\scpi_virtual\\jupyter_notebooks\\..\\src\\server.py\", line 45, in run\n",
      "    instrument.process_messages()\n",
      "  File \"C:\\Git_Repositories\\scpi_virtual\\jupyter_notebooks\\..\\src\\instrument.py\", line 156, in process_messages\n",
      "    self.oqueue.put(\";\".join(responses).encode(\"latin1\") + b\"\\n\")\n",
      "TypeError: sequence item 0: expected str instance, NoneType found\n"
     ]
    },
    {
     "name": "stdout",
     "output_type": "stream",
     "text": [
      "[[':VOLT', True]]\n",
      "[[':CURR', False, ['3']]]\n"
     ]
    }
   ],
   "source": [
    "from server import Server, Experiment\n",
    "from instrument import VirtualInstrument, FloatProperty\n",
    "\n",
    "class Voltmeter(VirtualInstrument):\n",
    "    def __init__(self):\n",
    "        super().__init__(\"Voltmeter\")\n",
    "        self.voltage = FloatProperty('V', readonly=True)\n",
    "        self.add_command(\":voltage\", self.voltage)\n",
    "\n",
    "class CurrentSource(VirtualInstrument):\n",
    "    def __init__(self):\n",
    "        super().__init__(\"Current source\")\n",
    "        self.current = FloatProperty('A')\n",
    "        self.add_command(\":current\", self.current)\n",
    "\n",
    "class OhmExperiment(Experiment):\n",
    "    ports = (PORT_V := 9001,\n",
    "             PORT_I := 9002)\n",
    "\n",
    "    def __init__(self, client_ip, resistance):\n",
    "        super().__init__(client_ip)\n",
    "        self.resistance = resistance\n",
    "        self.instruments = {\n",
    "            self.PORT_V: Voltmeter(),\n",
    "            self.PORT_I: CurrentSource()\n",
    "            }\n",
    "        self.instruments[self.PORT_I].current.add_set_hook(self.sync)\n",
    "                \n",
    "    def sync(self, *args):\n",
    "        self.instruments[self.PORT_V].voltage.value = \\\n",
    "            self.instruments[self.PORT_I].current.value * self.resistance\n",
    "\n",
    "if __name__ == \"__main__\":\n",
    "\n",
    "    server = Server(OhmExperiment, local=True, resistance=1e3)\n",
    "    try:\n",
    "        server.run()\n",
    "    except Exception:\n",
    "        server.shutdown_event.set()\n",
    "        raise"
   ]
  },
  {
   "cell_type": "code",
   "execution_count": null,
   "id": "845f8a67",
   "metadata": {},
   "outputs": [],
   "source": []
  },
  {
   "cell_type": "code",
   "execution_count": null,
   "id": "5975c95f",
   "metadata": {},
   "outputs": [],
   "source": []
  }
 ],
 "metadata": {
  "celltoolbar": "Slideshow",
  "kernelspec": {
   "display_name": "Python 3",
   "language": "python",
   "name": "python3"
  },
  "language_info": {
   "codemirror_mode": {
    "name": "ipython",
    "version": 3
   },
   "file_extension": ".py",
   "mimetype": "text/x-python",
   "name": "python",
   "nbconvert_exporter": "python",
   "pygments_lexer": "ipython3",
   "version": "3.8.8"
  },
  "latex_envs": {
   "LaTeX_envs_menu_present": true,
   "autoclose": false,
   "autocomplete": true,
   "bibliofile": "biblio.bib",
   "cite_by": "apalike",
   "current_citInitial": 1,
   "eqLabelWithNumbers": true,
   "eqNumInitial": 1,
   "hotkeys": {
    "equation": "Ctrl-E",
    "itemize": "Ctrl-I"
   },
   "labels_anchors": false,
   "latex_user_defs": false,
   "report_style_numbering": false,
   "user_envs_cfg": false
  },
  "toc": {
   "base_numbering": 1,
   "nav_menu": {},
   "number_sections": true,
   "sideBar": true,
   "skip_h1_title": false,
   "title_cell": "Table of Contents",
   "title_sidebar": "Contents",
   "toc_cell": false,
   "toc_position": {},
   "toc_section_display": true,
   "toc_window_display": false
  }
 },
 "nbformat": 4,
 "nbformat_minor": 5
}
